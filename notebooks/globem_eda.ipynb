{
 "cells": [
  {
   "cell_type": "code",
   "execution_count": 2,
   "id": "337bdbb0",
   "metadata": {},
   "outputs": [
    {
     "name": "stdout",
     "output_type": "stream",
     "text": [
      "Defaulting to user installation because normal site-packages is not writeable\n",
      "Collecting git+https://github.com/huggingface/peft.git (from -r /groups/xx2489_gp/kw3215/mh_causal_llm/requirements.txt (line 8))\n",
      "  Cloning https://github.com/huggingface/peft.git to /tmp/kw3215/pip-req-build-0l3mktjg\n",
      "  Running command git clone -q https://github.com/huggingface/peft.git /tmp/kw3215/pip-req-build-0l3mktjg\n",
      "  Resolved https://github.com/huggingface/peft.git to commit 6383a6bba454699c0a8a9e068a74d5bdb9232c9a\n",
      "  Installing build dependencies ... \u001b[?25ldone\n",
      "\u001b[?25h  Getting requirements to build wheel ... \u001b[?25ldone\n",
      "\u001b[?25h    Preparing wheel metadata ... \u001b[?25ldone\n",
      "\u001b[?25hCollecting git+https://github.com/huggingface/transformers.git (from -r /groups/xx2489_gp/kw3215/mh_causal_llm/requirements.txt (line 9))\n",
      "  Cloning https://github.com/huggingface/transformers.git to /tmp/kw3215/pip-req-build-jyhc_uij\n",
      "  Running command git clone -q https://github.com/huggingface/transformers.git /tmp/kw3215/pip-req-build-jyhc_uij\n",
      "  Resolved https://github.com/huggingface/transformers.git to commit 2c1155519f742a2ee23161c26eddd977eb8f6a34\n",
      "  Installing build dependencies ... \u001b[?25ldone\n",
      "\u001b[?25h  Getting requirements to build wheel ... \u001b[?25ldone\n",
      "\u001b[?25h    Preparing wheel metadata ... \u001b[?25ldone\n",
      "\u001b[?25hRequirement already satisfied: accelerate in /users/kw3215/.local/lib/python3.9/site-packages (from -r /groups/xx2489_gp/kw3215/mh_causal_llm/requirements.txt (line 1)) (1.6.0)\n",
      "Requirement already satisfied: appdirs in /users/kw3215/.local/lib/python3.9/site-packages (from -r /groups/xx2489_gp/kw3215/mh_causal_llm/requirements.txt (line 2)) (1.4.4)\n",
      "Requirement already satisfied: bitsandbytes in /users/kw3215/.local/lib/python3.9/site-packages (from -r /groups/xx2489_gp/kw3215/mh_causal_llm/requirements.txt (line 3)) (0.45.5)\n",
      "Requirement already satisfied: black in /users/kw3215/.local/lib/python3.9/site-packages (from -r /groups/xx2489_gp/kw3215/mh_causal_llm/requirements.txt (line 4)) (25.1.0)\n",
      "Requirement already satisfied: datasets in /users/kw3215/.local/lib/python3.9/site-packages (from -r /groups/xx2489_gp/kw3215/mh_causal_llm/requirements.txt (line 6)) (3.5.1)\n",
      "Requirement already satisfied: fire in /users/kw3215/.local/lib/python3.9/site-packages (from -r /groups/xx2489_gp/kw3215/mh_causal_llm/requirements.txt (line 7)) (0.7.0)\n",
      "Requirement already satisfied: gradio in /users/kw3215/.local/lib/python3.9/site-packages (from -r /groups/xx2489_gp/kw3215/mh_causal_llm/requirements.txt (line 10)) (4.44.1)\n",
      "Requirement already satisfied: sentencepiece in /users/kw3215/.local/lib/python3.9/site-packages (from -r /groups/xx2489_gp/kw3215/mh_causal_llm/requirements.txt (line 11)) (0.2.0)\n",
      "Requirement already satisfied: numpy<3.0.0,>=1.17 in /users/kw3215/.local/lib/python3.9/site-packages (from accelerate->-r /groups/xx2489_gp/kw3215/mh_causal_llm/requirements.txt (line 1)) (2.0.2)\n",
      "Requirement already satisfied: pyyaml in /usr/lib64/python3.9/site-packages (from accelerate->-r /groups/xx2489_gp/kw3215/mh_causal_llm/requirements.txt (line 1)) (5.4.1)\n",
      "Requirement already satisfied: psutil in /users/kw3215/.local/lib/python3.9/site-packages (from accelerate->-r /groups/xx2489_gp/kw3215/mh_causal_llm/requirements.txt (line 1)) (7.0.0)\n",
      "Requirement already satisfied: huggingface-hub>=0.21.0 in /users/kw3215/.local/lib/python3.9/site-packages (from accelerate->-r /groups/xx2489_gp/kw3215/mh_causal_llm/requirements.txt (line 1)) (0.30.2)\n",
      "Requirement already satisfied: safetensors>=0.4.3 in /users/kw3215/.local/lib/python3.9/site-packages (from accelerate->-r /groups/xx2489_gp/kw3215/mh_causal_llm/requirements.txt (line 1)) (0.5.3)\n",
      "Requirement already satisfied: packaging>=20.0 in /users/kw3215/.local/lib/python3.9/site-packages (from accelerate->-r /groups/xx2489_gp/kw3215/mh_causal_llm/requirements.txt (line 1)) (25.0)\n",
      "Requirement already satisfied: torch>=2.0.0 in /users/kw3215/.local/lib/python3.9/site-packages (from accelerate->-r /groups/xx2489_gp/kw3215/mh_causal_llm/requirements.txt (line 1)) (2.7.0)\n",
      "Requirement already satisfied: mypy-extensions>=0.4.3 in /users/kw3215/.local/lib/python3.9/site-packages (from black->-r /groups/xx2489_gp/kw3215/mh_causal_llm/requirements.txt (line 4)) (1.1.0)\n",
      "Requirement already satisfied: click>=8.0.0 in /users/kw3215/.local/lib/python3.9/site-packages (from black->-r /groups/xx2489_gp/kw3215/mh_causal_llm/requirements.txt (line 4)) (8.1.8)\n",
      "Requirement already satisfied: pathspec>=0.9.0 in /users/kw3215/.local/lib/python3.9/site-packages (from black->-r /groups/xx2489_gp/kw3215/mh_causal_llm/requirements.txt (line 4)) (0.12.1)\n",
      "Requirement already satisfied: typing-extensions>=4.0.1 in /users/kw3215/.local/lib/python3.9/site-packages (from black->-r /groups/xx2489_gp/kw3215/mh_causal_llm/requirements.txt (line 4)) (4.13.2)\n",
      "Requirement already satisfied: tomli>=1.1.0 in /users/kw3215/.local/lib/python3.9/site-packages (from black->-r /groups/xx2489_gp/kw3215/mh_causal_llm/requirements.txt (line 4)) (2.2.1)\n",
      "Requirement already satisfied: platformdirs>=2 in /users/kw3215/.local/lib/python3.9/site-packages (from black->-r /groups/xx2489_gp/kw3215/mh_causal_llm/requirements.txt (line 4)) (4.3.7)\n",
      "Requirement already satisfied: ipython>=7.8.0 in /users/kw3215/.local/lib/python3.9/site-packages (from black->-r /groups/xx2489_gp/kw3215/mh_causal_llm/requirements.txt (line 4)) (8.18.1)\n",
      "Requirement already satisfied: tokenize-rt>=3.2.0 in /users/kw3215/.local/lib/python3.9/site-packages (from black->-r /groups/xx2489_gp/kw3215/mh_causal_llm/requirements.txt (line 4)) (6.1.0)\n",
      "Requirement already satisfied: xxhash in /users/kw3215/.local/lib/python3.9/site-packages (from datasets->-r /groups/xx2489_gp/kw3215/mh_causal_llm/requirements.txt (line 6)) (3.5.0)\n",
      "Requirement already satisfied: tqdm>=4.66.3 in /users/kw3215/.local/lib/python3.9/site-packages (from datasets->-r /groups/xx2489_gp/kw3215/mh_causal_llm/requirements.txt (line 6)) (4.67.1)\n",
      "Requirement already satisfied: multiprocess<0.70.17 in /users/kw3215/.local/lib/python3.9/site-packages (from datasets->-r /groups/xx2489_gp/kw3215/mh_causal_llm/requirements.txt (line 6)) (0.70.16)\n",
      "Requirement already satisfied: fsspec[http]<=2025.3.0,>=2023.1.0 in /users/kw3215/.local/lib/python3.9/site-packages (from datasets->-r /groups/xx2489_gp/kw3215/mh_causal_llm/requirements.txt (line 6)) (2025.3.0)\n",
      "Requirement already satisfied: aiohttp in /users/kw3215/.local/lib/python3.9/site-packages (from datasets->-r /groups/xx2489_gp/kw3215/mh_causal_llm/requirements.txt (line 6)) (3.11.18)\n",
      "Requirement already satisfied: dill<0.3.9,>=0.3.0 in /users/kw3215/.local/lib/python3.9/site-packages (from datasets->-r /groups/xx2489_gp/kw3215/mh_causal_llm/requirements.txt (line 6)) (0.3.8)\n",
      "Requirement already satisfied: requests>=2.32.2 in /users/kw3215/.local/lib/python3.9/site-packages (from datasets->-r /groups/xx2489_gp/kw3215/mh_causal_llm/requirements.txt (line 6)) (2.32.3)\n",
      "Requirement already satisfied: filelock in /users/kw3215/.local/lib/python3.9/site-packages (from datasets->-r /groups/xx2489_gp/kw3215/mh_causal_llm/requirements.txt (line 6)) (3.18.0)\n",
      "Requirement already satisfied: pyarrow>=15.0.0 in /users/kw3215/.local/lib/python3.9/site-packages (from datasets->-r /groups/xx2489_gp/kw3215/mh_causal_llm/requirements.txt (line 6)) (20.0.0)\n",
      "Requirement already satisfied: pandas in /users/kw3215/.local/lib/python3.9/site-packages (from datasets->-r /groups/xx2489_gp/kw3215/mh_causal_llm/requirements.txt (line 6)) (2.2.3)\n",
      "Requirement already satisfied: termcolor in /users/kw3215/.local/lib/python3.9/site-packages (from fire->-r /groups/xx2489_gp/kw3215/mh_causal_llm/requirements.txt (line 7)) (3.1.0)\n",
      "Requirement already satisfied: regex!=2019.12.17 in /users/kw3215/.local/lib/python3.9/site-packages (from transformers==4.52.0.dev0->-r /groups/xx2489_gp/kw3215/mh_causal_llm/requirements.txt (line 9)) (2024.11.6)\n",
      "Requirement already satisfied: tokenizers<0.22,>=0.21 in /users/kw3215/.local/lib/python3.9/site-packages (from transformers==4.52.0.dev0->-r /groups/xx2489_gp/kw3215/mh_causal_llm/requirements.txt (line 9)) (0.21.1)\n",
      "Requirement already satisfied: semantic-version~=2.0 in /users/kw3215/.local/lib/python3.9/site-packages (from gradio->-r /groups/xx2489_gp/kw3215/mh_causal_llm/requirements.txt (line 10)) (2.10.0)\n",
      "Requirement already satisfied: ffmpy in /users/kw3215/.local/lib/python3.9/site-packages (from gradio->-r /groups/xx2489_gp/kw3215/mh_causal_llm/requirements.txt (line 10)) (0.5.0)\n",
      "Requirement already satisfied: anyio<5.0,>=3.0 in /users/kw3215/.local/lib/python3.9/site-packages (from gradio->-r /groups/xx2489_gp/kw3215/mh_causal_llm/requirements.txt (line 10)) (4.9.0)\n",
      "Requirement already satisfied: httpx>=0.24.1 in /users/kw3215/.local/lib/python3.9/site-packages (from gradio->-r /groups/xx2489_gp/kw3215/mh_causal_llm/requirements.txt (line 10)) (0.28.1)\n",
      "Requirement already satisfied: ruff>=0.2.2 in /users/kw3215/.local/lib/python3.9/site-packages (from gradio->-r /groups/xx2489_gp/kw3215/mh_causal_llm/requirements.txt (line 10)) (0.11.7)\n",
      "Requirement already satisfied: jinja2<4.0 in /users/kw3215/.local/lib/python3.9/site-packages (from gradio->-r /groups/xx2489_gp/kw3215/mh_causal_llm/requirements.txt (line 10)) (3.1.6)\n",
      "Requirement already satisfied: typer<1.0,>=0.12 in /users/kw3215/.local/lib/python3.9/site-packages (from gradio->-r /groups/xx2489_gp/kw3215/mh_causal_llm/requirements.txt (line 10)) (0.15.3)\n",
      "Requirement already satisfied: importlib-resources<7.0,>=1.3 in /users/kw3215/.local/lib/python3.9/site-packages (from gradio->-r /groups/xx2489_gp/kw3215/mh_causal_llm/requirements.txt (line 10)) (6.5.2)\n",
      "Requirement already satisfied: tomlkit==0.12.0 in /users/kw3215/.local/lib/python3.9/site-packages (from gradio->-r /groups/xx2489_gp/kw3215/mh_causal_llm/requirements.txt (line 10)) (0.12.0)\n",
      "Requirement already satisfied: matplotlib~=3.0 in /users/kw3215/.local/lib/python3.9/site-packages (from gradio->-r /groups/xx2489_gp/kw3215/mh_causal_llm/requirements.txt (line 10)) (3.9.4)\n",
      "Requirement already satisfied: urllib3~=2.0 in /users/kw3215/.local/lib/python3.9/site-packages (from gradio->-r /groups/xx2489_gp/kw3215/mh_causal_llm/requirements.txt (line 10)) (2.4.0)\n",
      "Requirement already satisfied: uvicorn>=0.14.0 in /users/kw3215/.local/lib/python3.9/site-packages (from gradio->-r /groups/xx2489_gp/kw3215/mh_causal_llm/requirements.txt (line 10)) (0.34.2)\n",
      "Requirement already satisfied: gradio-client==1.3.0 in /users/kw3215/.local/lib/python3.9/site-packages (from gradio->-r /groups/xx2489_gp/kw3215/mh_causal_llm/requirements.txt (line 10)) (1.3.0)\n",
      "Requirement already satisfied: pydub in /users/kw3215/.local/lib/python3.9/site-packages (from gradio->-r /groups/xx2489_gp/kw3215/mh_causal_llm/requirements.txt (line 10)) (0.25.1)\n",
      "Requirement already satisfied: pydantic>=2.0 in /users/kw3215/.local/lib/python3.9/site-packages (from gradio->-r /groups/xx2489_gp/kw3215/mh_causal_llm/requirements.txt (line 10)) (2.11.4)\n",
      "Requirement already satisfied: markupsafe~=2.0 in /users/kw3215/.local/lib/python3.9/site-packages (from gradio->-r /groups/xx2489_gp/kw3215/mh_causal_llm/requirements.txt (line 10)) (2.1.5)\n",
      "Requirement already satisfied: python-multipart>=0.0.9 in /users/kw3215/.local/lib/python3.9/site-packages (from gradio->-r /groups/xx2489_gp/kw3215/mh_causal_llm/requirements.txt (line 10)) (0.0.20)\n",
      "Requirement already satisfied: fastapi<1.0 in /users/kw3215/.local/lib/python3.9/site-packages (from gradio->-r /groups/xx2489_gp/kw3215/mh_causal_llm/requirements.txt (line 10)) (0.115.12)\n",
      "Requirement already satisfied: pillow<11.0,>=8.0 in /users/kw3215/.local/lib/python3.9/site-packages (from gradio->-r /groups/xx2489_gp/kw3215/mh_causal_llm/requirements.txt (line 10)) (10.4.0)\n",
      "Requirement already satisfied: aiofiles<24.0,>=22.0 in /users/kw3215/.local/lib/python3.9/site-packages (from gradio->-r /groups/xx2489_gp/kw3215/mh_causal_llm/requirements.txt (line 10)) (23.2.1)\n",
      "Requirement already satisfied: orjson~=3.0 in /users/kw3215/.local/lib/python3.9/site-packages (from gradio->-r /groups/xx2489_gp/kw3215/mh_causal_llm/requirements.txt (line 10)) (3.10.18)\n",
      "Requirement already satisfied: websockets<13.0,>=10.0 in /users/kw3215/.local/lib/python3.9/site-packages (from gradio-client==1.3.0->gradio->-r /groups/xx2489_gp/kw3215/mh_causal_llm/requirements.txt (line 10)) (12.0)\n",
      "Requirement already satisfied: idna>=2.8 in /users/kw3215/.local/lib/python3.9/site-packages (from anyio<5.0,>=3.0->gradio->-r /groups/xx2489_gp/kw3215/mh_causal_llm/requirements.txt (line 10)) (3.10)\n",
      "Requirement already satisfied: exceptiongroup>=1.0.2 in /users/kw3215/.local/lib/python3.9/site-packages (from anyio<5.0,>=3.0->gradio->-r /groups/xx2489_gp/kw3215/mh_causal_llm/requirements.txt (line 10)) (1.2.2)\n",
      "Requirement already satisfied: sniffio>=1.1 in /users/kw3215/.local/lib/python3.9/site-packages (from anyio<5.0,>=3.0->gradio->-r /groups/xx2489_gp/kw3215/mh_causal_llm/requirements.txt (line 10)) (1.3.1)\n",
      "Requirement already satisfied: starlette<0.47.0,>=0.40.0 in /users/kw3215/.local/lib/python3.9/site-packages (from fastapi<1.0->gradio->-r /groups/xx2489_gp/kw3215/mh_causal_llm/requirements.txt (line 10)) (0.46.2)\n",
      "Requirement already satisfied: multidict<7.0,>=4.5 in /users/kw3215/.local/lib/python3.9/site-packages (from aiohttp->datasets->-r /groups/xx2489_gp/kw3215/mh_causal_llm/requirements.txt (line 6)) (6.4.3)\n",
      "Requirement already satisfied: propcache>=0.2.0 in /users/kw3215/.local/lib/python3.9/site-packages (from aiohttp->datasets->-r /groups/xx2489_gp/kw3215/mh_causal_llm/requirements.txt (line 6)) (0.3.1)\n",
      "Requirement already satisfied: aiosignal>=1.1.2 in /users/kw3215/.local/lib/python3.9/site-packages (from aiohttp->datasets->-r /groups/xx2489_gp/kw3215/mh_causal_llm/requirements.txt (line 6)) (1.3.2)\n",
      "Requirement already satisfied: yarl<2.0,>=1.17.0 in /users/kw3215/.local/lib/python3.9/site-packages (from aiohttp->datasets->-r /groups/xx2489_gp/kw3215/mh_causal_llm/requirements.txt (line 6)) (1.20.0)\n",
      "Requirement already satisfied: aiohappyeyeballs>=2.3.0 in /users/kw3215/.local/lib/python3.9/site-packages (from aiohttp->datasets->-r /groups/xx2489_gp/kw3215/mh_causal_llm/requirements.txt (line 6)) (2.6.1)\n",
      "Requirement already satisfied: async-timeout<6.0,>=4.0 in /users/kw3215/.local/lib/python3.9/site-packages (from aiohttp->datasets->-r /groups/xx2489_gp/kw3215/mh_causal_llm/requirements.txt (line 6)) (5.0.1)\n",
      "Requirement already satisfied: attrs>=17.3.0 in /users/kw3215/.local/lib/python3.9/site-packages (from aiohttp->datasets->-r /groups/xx2489_gp/kw3215/mh_causal_llm/requirements.txt (line 6)) (25.3.0)\n",
      "Requirement already satisfied: frozenlist>=1.1.1 in /users/kw3215/.local/lib/python3.9/site-packages (from aiohttp->datasets->-r /groups/xx2489_gp/kw3215/mh_causal_llm/requirements.txt (line 6)) (1.6.0)\n",
      "Requirement already satisfied: certifi in /users/kw3215/.local/lib/python3.9/site-packages (from httpx>=0.24.1->gradio->-r /groups/xx2489_gp/kw3215/mh_causal_llm/requirements.txt (line 10)) (2025.4.26)\n",
      "Requirement already satisfied: httpcore==1.* in /users/kw3215/.local/lib/python3.9/site-packages (from httpx>=0.24.1->gradio->-r /groups/xx2489_gp/kw3215/mh_causal_llm/requirements.txt (line 10)) (1.0.9)\n",
      "Requirement already satisfied: h11>=0.16 in /users/kw3215/.local/lib/python3.9/site-packages (from httpcore==1.*->httpx>=0.24.1->gradio->-r /groups/xx2489_gp/kw3215/mh_causal_llm/requirements.txt (line 10)) (0.16.0)\n",
      "Requirement already satisfied: zipp>=3.1.0 in /users/kw3215/.local/lib/python3.9/site-packages (from importlib-resources<7.0,>=1.3->gradio->-r /groups/xx2489_gp/kw3215/mh_causal_llm/requirements.txt (line 10)) (3.21.0)\n",
      "Requirement already satisfied: pexpect>4.3 in /users/kw3215/.local/lib/python3.9/site-packages (from ipython>=7.8.0->black->-r /groups/xx2489_gp/kw3215/mh_causal_llm/requirements.txt (line 4)) (4.9.0)\n",
      "Requirement already satisfied: prompt-toolkit<3.1.0,>=3.0.41 in /users/kw3215/.local/lib/python3.9/site-packages (from ipython>=7.8.0->black->-r /groups/xx2489_gp/kw3215/mh_causal_llm/requirements.txt (line 4)) (3.0.51)\n",
      "Requirement already satisfied: matplotlib-inline in /users/kw3215/.local/lib/python3.9/site-packages (from ipython>=7.8.0->black->-r /groups/xx2489_gp/kw3215/mh_causal_llm/requirements.txt (line 4)) (0.1.7)\n",
      "Requirement already satisfied: jedi>=0.16 in /users/kw3215/.local/lib/python3.9/site-packages (from ipython>=7.8.0->black->-r /groups/xx2489_gp/kw3215/mh_causal_llm/requirements.txt (line 4)) (0.19.2)\n",
      "Requirement already satisfied: stack-data in /users/kw3215/.local/lib/python3.9/site-packages (from ipython>=7.8.0->black->-r /groups/xx2489_gp/kw3215/mh_causal_llm/requirements.txt (line 4)) (0.6.3)\n",
      "Requirement already satisfied: decorator in /users/kw3215/.local/lib/python3.9/site-packages (from ipython>=7.8.0->black->-r /groups/xx2489_gp/kw3215/mh_causal_llm/requirements.txt (line 4)) (5.2.1)\n",
      "Requirement already satisfied: traitlets>=5 in /users/kw3215/.local/lib/python3.9/site-packages (from ipython>=7.8.0->black->-r /groups/xx2489_gp/kw3215/mh_causal_llm/requirements.txt (line 4)) (5.14.3)\n",
      "Requirement already satisfied: pygments>=2.4.0 in /users/kw3215/.local/lib/python3.9/site-packages (from ipython>=7.8.0->black->-r /groups/xx2489_gp/kw3215/mh_causal_llm/requirements.txt (line 4)) (2.19.1)\n",
      "Requirement already satisfied: parso<0.9.0,>=0.8.4 in /users/kw3215/.local/lib/python3.9/site-packages (from jedi>=0.16->ipython>=7.8.0->black->-r /groups/xx2489_gp/kw3215/mh_causal_llm/requirements.txt (line 4)) (0.8.4)\n",
      "Requirement already satisfied: cycler>=0.10 in /users/kw3215/.local/lib/python3.9/site-packages (from matplotlib~=3.0->gradio->-r /groups/xx2489_gp/kw3215/mh_causal_llm/requirements.txt (line 10)) (0.12.1)\n",
      "Requirement already satisfied: python-dateutil>=2.7 in /users/kw3215/.local/lib/python3.9/site-packages (from matplotlib~=3.0->gradio->-r /groups/xx2489_gp/kw3215/mh_causal_llm/requirements.txt (line 10)) (2.9.0.post0)\n",
      "Requirement already satisfied: kiwisolver>=1.3.1 in /users/kw3215/.local/lib/python3.9/site-packages (from matplotlib~=3.0->gradio->-r /groups/xx2489_gp/kw3215/mh_causal_llm/requirements.txt (line 10)) (1.4.7)\n",
      "Requirement already satisfied: pyparsing>=2.3.1 in /usr/lib/python3.9/site-packages (from matplotlib~=3.0->gradio->-r /groups/xx2489_gp/kw3215/mh_causal_llm/requirements.txt (line 10)) (2.4.7)\n",
      "Requirement already satisfied: fonttools>=4.22.0 in /users/kw3215/.local/lib/python3.9/site-packages (from matplotlib~=3.0->gradio->-r /groups/xx2489_gp/kw3215/mh_causal_llm/requirements.txt (line 10)) (4.57.0)\n",
      "Requirement already satisfied: contourpy>=1.0.1 in /users/kw3215/.local/lib/python3.9/site-packages (from matplotlib~=3.0->gradio->-r /groups/xx2489_gp/kw3215/mh_causal_llm/requirements.txt (line 10)) (1.3.0)\n",
      "Requirement already satisfied: tzdata>=2022.7 in /users/kw3215/.local/lib/python3.9/site-packages (from pandas->datasets->-r /groups/xx2489_gp/kw3215/mh_causal_llm/requirements.txt (line 6)) (2025.2)\n",
      "Requirement already satisfied: pytz>=2020.1 in /users/kw3215/.local/lib/python3.9/site-packages (from pandas->datasets->-r /groups/xx2489_gp/kw3215/mh_causal_llm/requirements.txt (line 6)) (2025.2)\n",
      "Requirement already satisfied: ptyprocess>=0.5 in /users/kw3215/.local/lib/python3.9/site-packages (from pexpect>4.3->ipython>=7.8.0->black->-r /groups/xx2489_gp/kw3215/mh_causal_llm/requirements.txt (line 4)) (0.7.0)\n",
      "Requirement already satisfied: wcwidth in /users/kw3215/.local/lib/python3.9/site-packages (from prompt-toolkit<3.1.0,>=3.0.41->ipython>=7.8.0->black->-r /groups/xx2489_gp/kw3215/mh_causal_llm/requirements.txt (line 4)) (0.2.13)\n",
      "Requirement already satisfied: typing-inspection>=0.4.0 in /users/kw3215/.local/lib/python3.9/site-packages (from pydantic>=2.0->gradio->-r /groups/xx2489_gp/kw3215/mh_causal_llm/requirements.txt (line 10)) (0.4.0)\n",
      "Requirement already satisfied: annotated-types>=0.6.0 in /users/kw3215/.local/lib/python3.9/site-packages (from pydantic>=2.0->gradio->-r /groups/xx2489_gp/kw3215/mh_causal_llm/requirements.txt (line 10)) (0.7.0)\n",
      "Requirement already satisfied: pydantic-core==2.33.2 in /users/kw3215/.local/lib/python3.9/site-packages (from pydantic>=2.0->gradio->-r /groups/xx2489_gp/kw3215/mh_causal_llm/requirements.txt (line 10)) (2.33.2)\n",
      "Requirement already satisfied: six>=1.5 in /usr/lib/python3.9/site-packages (from python-dateutil>=2.7->matplotlib~=3.0->gradio->-r /groups/xx2489_gp/kw3215/mh_causal_llm/requirements.txt (line 10)) (1.15.0)\n",
      "Requirement already satisfied: charset-normalizer<4,>=2 in /users/kw3215/.local/lib/python3.9/site-packages (from requests>=2.32.2->datasets->-r /groups/xx2489_gp/kw3215/mh_causal_llm/requirements.txt (line 6)) (3.4.1)\n",
      "Requirement already satisfied: nvidia-cusparse-cu12==12.5.4.2 in /users/kw3215/.local/lib/python3.9/site-packages (from torch>=2.0.0->accelerate->-r /groups/xx2489_gp/kw3215/mh_causal_llm/requirements.txt (line 1)) (12.5.4.2)\n",
      "Requirement already satisfied: nvidia-nccl-cu12==2.26.2 in /users/kw3215/.local/lib/python3.9/site-packages (from torch>=2.0.0->accelerate->-r /groups/xx2489_gp/kw3215/mh_causal_llm/requirements.txt (line 1)) (2.26.2)\n",
      "Requirement already satisfied: nvidia-cusolver-cu12==11.7.1.2 in /users/kw3215/.local/lib/python3.9/site-packages (from torch>=2.0.0->accelerate->-r /groups/xx2489_gp/kw3215/mh_causal_llm/requirements.txt (line 1)) (11.7.1.2)\n",
      "Requirement already satisfied: nvidia-cufile-cu12==1.11.1.6 in /users/kw3215/.local/lib/python3.9/site-packages (from torch>=2.0.0->accelerate->-r /groups/xx2489_gp/kw3215/mh_causal_llm/requirements.txt (line 1)) (1.11.1.6)\n",
      "Requirement already satisfied: nvidia-cusparselt-cu12==0.6.3 in /users/kw3215/.local/lib/python3.9/site-packages (from torch>=2.0.0->accelerate->-r /groups/xx2489_gp/kw3215/mh_causal_llm/requirements.txt (line 1)) (0.6.3)\n",
      "Requirement already satisfied: nvidia-cuda-runtime-cu12==12.6.77 in /users/kw3215/.local/lib/python3.9/site-packages (from torch>=2.0.0->accelerate->-r /groups/xx2489_gp/kw3215/mh_causal_llm/requirements.txt (line 1)) (12.6.77)\n",
      "Requirement already satisfied: nvidia-curand-cu12==10.3.7.77 in /users/kw3215/.local/lib/python3.9/site-packages (from torch>=2.0.0->accelerate->-r /groups/xx2489_gp/kw3215/mh_causal_llm/requirements.txt (line 1)) (10.3.7.77)\n",
      "Requirement already satisfied: nvidia-nvtx-cu12==12.6.77 in /users/kw3215/.local/lib/python3.9/site-packages (from torch>=2.0.0->accelerate->-r /groups/xx2489_gp/kw3215/mh_causal_llm/requirements.txt (line 1)) (12.6.77)\n",
      "Requirement already satisfied: sympy>=1.13.3 in /users/kw3215/.local/lib/python3.9/site-packages (from torch>=2.0.0->accelerate->-r /groups/xx2489_gp/kw3215/mh_causal_llm/requirements.txt (line 1)) (1.14.0)\n",
      "Requirement already satisfied: nvidia-cudnn-cu12==9.5.1.17 in /users/kw3215/.local/lib/python3.9/site-packages (from torch>=2.0.0->accelerate->-r /groups/xx2489_gp/kw3215/mh_causal_llm/requirements.txt (line 1)) (9.5.1.17)\n",
      "Requirement already satisfied: nvidia-cuda-nvrtc-cu12==12.6.77 in /users/kw3215/.local/lib/python3.9/site-packages (from torch>=2.0.0->accelerate->-r /groups/xx2489_gp/kw3215/mh_causal_llm/requirements.txt (line 1)) (12.6.77)\n",
      "Requirement already satisfied: nvidia-cufft-cu12==11.3.0.4 in /users/kw3215/.local/lib/python3.9/site-packages (from torch>=2.0.0->accelerate->-r /groups/xx2489_gp/kw3215/mh_causal_llm/requirements.txt (line 1)) (11.3.0.4)\n",
      "Requirement already satisfied: networkx in /users/kw3215/.local/lib/python3.9/site-packages (from torch>=2.0.0->accelerate->-r /groups/xx2489_gp/kw3215/mh_causal_llm/requirements.txt (line 1)) (3.2.1)\n",
      "Requirement already satisfied: nvidia-nvjitlink-cu12==12.6.85 in /users/kw3215/.local/lib/python3.9/site-packages (from torch>=2.0.0->accelerate->-r /groups/xx2489_gp/kw3215/mh_causal_llm/requirements.txt (line 1)) (12.6.85)\n",
      "Requirement already satisfied: nvidia-cuda-cupti-cu12==12.6.80 in /users/kw3215/.local/lib/python3.9/site-packages (from torch>=2.0.0->accelerate->-r /groups/xx2489_gp/kw3215/mh_causal_llm/requirements.txt (line 1)) (12.6.80)\n",
      "Requirement already satisfied: nvidia-cublas-cu12==12.6.4.1 in /users/kw3215/.local/lib/python3.9/site-packages (from torch>=2.0.0->accelerate->-r /groups/xx2489_gp/kw3215/mh_causal_llm/requirements.txt (line 1)) (12.6.4.1)\n",
      "Requirement already satisfied: triton==3.3.0 in /users/kw3215/.local/lib/python3.9/site-packages (from torch>=2.0.0->accelerate->-r /groups/xx2489_gp/kw3215/mh_causal_llm/requirements.txt (line 1)) (3.3.0)\n",
      "Requirement already satisfied: setuptools>=40.8.0 in /usr/lib/python3.9/site-packages (from triton==3.3.0->torch>=2.0.0->accelerate->-r /groups/xx2489_gp/kw3215/mh_causal_llm/requirements.txt (line 1)) (53.0.0)\n",
      "Requirement already satisfied: mpmath<1.4,>=1.1.0 in /users/kw3215/.local/lib/python3.9/site-packages (from sympy>=1.13.3->torch>=2.0.0->accelerate->-r /groups/xx2489_gp/kw3215/mh_causal_llm/requirements.txt (line 1)) (1.3.0)\n",
      "Requirement already satisfied: shellingham>=1.3.0 in /users/kw3215/.local/lib/python3.9/site-packages (from typer<1.0,>=0.12->gradio->-r /groups/xx2489_gp/kw3215/mh_causal_llm/requirements.txt (line 10)) (1.5.4)\n",
      "Requirement already satisfied: rich>=10.11.0 in /users/kw3215/.local/lib/python3.9/site-packages (from typer<1.0,>=0.12->gradio->-r /groups/xx2489_gp/kw3215/mh_causal_llm/requirements.txt (line 10)) (14.0.0)\n",
      "Requirement already satisfied: markdown-it-py>=2.2.0 in /users/kw3215/.local/lib/python3.9/site-packages (from rich>=10.11.0->typer<1.0,>=0.12->gradio->-r /groups/xx2489_gp/kw3215/mh_causal_llm/requirements.txt (line 10)) (3.0.0)\n",
      "Requirement already satisfied: mdurl~=0.1 in /users/kw3215/.local/lib/python3.9/site-packages (from markdown-it-py>=2.2.0->rich>=10.11.0->typer<1.0,>=0.12->gradio->-r /groups/xx2489_gp/kw3215/mh_causal_llm/requirements.txt (line 10)) (0.1.2)\n",
      "Requirement already satisfied: pure-eval in /users/kw3215/.local/lib/python3.9/site-packages (from stack-data->ipython>=7.8.0->black->-r /groups/xx2489_gp/kw3215/mh_causal_llm/requirements.txt (line 4)) (0.2.3)\n",
      "Requirement already satisfied: executing>=1.2.0 in /users/kw3215/.local/lib/python3.9/site-packages (from stack-data->ipython>=7.8.0->black->-r /groups/xx2489_gp/kw3215/mh_causal_llm/requirements.txt (line 4)) (2.2.0)\n",
      "Requirement already satisfied: asttokens>=2.1.0 in /users/kw3215/.local/lib/python3.9/site-packages (from stack-data->ipython>=7.8.0->black->-r /groups/xx2489_gp/kw3215/mh_causal_llm/requirements.txt (line 4)) (3.0.0)\n",
      "\u001b[33mWARNING: Value for scheme.platlib does not match. Please report this to <https://github.com/pypa/pip/issues/10151>\n",
      "distutils: /users/kw3215/.local/lib/python3.9/site-packages\n",
      "sysconfig: /users/kw3215/.local/lib64/python3.9/site-packages\u001b[0m\n",
      "\u001b[33mWARNING: Additional context:\n",
      "user = True\n",
      "home = None\n",
      "root = None\n",
      "prefix = None\u001b[0m\n"
     ]
    }
   ],
   "source": [
    "!pip install -r \"/groups/xx2489_gp/kw3215/mh_causal_llm/requirements.txt\""
   ]
  },
  {
   "cell_type": "code",
   "execution_count": 3,
   "id": "f337319e",
   "metadata": {},
   "outputs": [
    {
     "name": "stdout",
     "output_type": "stream",
     "text": [
      "Defaulting to user installation because normal site-packages is not writeable\n",
      "Requirement already satisfied: datasets in /users/kw3215/.local/lib/python3.9/site-packages (3.5.1)\n",
      "Requirement already satisfied: pyarrow>=15.0.0 in /users/kw3215/.local/lib/python3.9/site-packages (from datasets) (20.0.0)\n",
      "Requirement already satisfied: pyyaml>=5.1 in /usr/lib64/python3.9/site-packages (from datasets) (5.4.1)\n",
      "Requirement already satisfied: tqdm>=4.66.3 in /users/kw3215/.local/lib/python3.9/site-packages (from datasets) (4.67.1)\n",
      "Requirement already satisfied: huggingface-hub>=0.24.0 in /users/kw3215/.local/lib/python3.9/site-packages (from datasets) (0.30.2)\n",
      "Requirement already satisfied: dill<0.3.9,>=0.3.0 in /users/kw3215/.local/lib/python3.9/site-packages (from datasets) (0.3.8)\n",
      "Requirement already satisfied: filelock in /users/kw3215/.local/lib/python3.9/site-packages (from datasets) (3.18.0)\n",
      "Requirement already satisfied: numpy>=1.17 in /users/kw3215/.local/lib/python3.9/site-packages (from datasets) (2.0.2)\n",
      "Requirement already satisfied: xxhash in /users/kw3215/.local/lib/python3.9/site-packages (from datasets) (3.5.0)\n",
      "Requirement already satisfied: multiprocess<0.70.17 in /users/kw3215/.local/lib/python3.9/site-packages (from datasets) (0.70.16)\n",
      "Requirement already satisfied: packaging in /users/kw3215/.local/lib/python3.9/site-packages (from datasets) (25.0)\n",
      "Requirement already satisfied: requests>=2.32.2 in /users/kw3215/.local/lib/python3.9/site-packages (from datasets) (2.32.3)\n",
      "Requirement already satisfied: fsspec[http]<=2025.3.0,>=2023.1.0 in /users/kw3215/.local/lib/python3.9/site-packages (from datasets) (2025.3.0)\n",
      "Requirement already satisfied: aiohttp in /users/kw3215/.local/lib/python3.9/site-packages (from datasets) (3.11.18)\n",
      "Requirement already satisfied: pandas in /users/kw3215/.local/lib/python3.9/site-packages (from datasets) (2.2.3)\n",
      "Requirement already satisfied: async-timeout<6.0,>=4.0 in /users/kw3215/.local/lib/python3.9/site-packages (from aiohttp->datasets) (5.0.1)\n",
      "Requirement already satisfied: attrs>=17.3.0 in /users/kw3215/.local/lib/python3.9/site-packages (from aiohttp->datasets) (25.3.0)\n",
      "Requirement already satisfied: aiohappyeyeballs>=2.3.0 in /users/kw3215/.local/lib/python3.9/site-packages (from aiohttp->datasets) (2.6.1)\n",
      "Requirement already satisfied: multidict<7.0,>=4.5 in /users/kw3215/.local/lib/python3.9/site-packages (from aiohttp->datasets) (6.4.3)\n",
      "Requirement already satisfied: yarl<2.0,>=1.17.0 in /users/kw3215/.local/lib/python3.9/site-packages (from aiohttp->datasets) (1.20.0)\n",
      "Requirement already satisfied: aiosignal>=1.1.2 in /users/kw3215/.local/lib/python3.9/site-packages (from aiohttp->datasets) (1.3.2)\n",
      "Requirement already satisfied: frozenlist>=1.1.1 in /users/kw3215/.local/lib/python3.9/site-packages (from aiohttp->datasets) (1.6.0)\n",
      "Requirement already satisfied: propcache>=0.2.0 in /users/kw3215/.local/lib/python3.9/site-packages (from aiohttp->datasets) (0.3.1)\n",
      "Requirement already satisfied: typing-extensions>=3.7.4.3 in /users/kw3215/.local/lib/python3.9/site-packages (from huggingface-hub>=0.24.0->datasets) (4.13.2)\n",
      "Requirement already satisfied: idna<4,>=2.5 in /users/kw3215/.local/lib/python3.9/site-packages (from requests>=2.32.2->datasets) (3.10)\n",
      "Requirement already satisfied: charset-normalizer<4,>=2 in /users/kw3215/.local/lib/python3.9/site-packages (from requests>=2.32.2->datasets) (3.4.1)\n",
      "Requirement already satisfied: urllib3<3,>=1.21.1 in /users/kw3215/.local/lib/python3.9/site-packages (from requests>=2.32.2->datasets) (2.4.0)\n",
      "Requirement already satisfied: certifi>=2017.4.17 in /users/kw3215/.local/lib/python3.9/site-packages (from requests>=2.32.2->datasets) (2025.4.26)\n",
      "Requirement already satisfied: tzdata>=2022.7 in /users/kw3215/.local/lib/python3.9/site-packages (from pandas->datasets) (2025.2)\n",
      "Requirement already satisfied: python-dateutil>=2.8.2 in /users/kw3215/.local/lib/python3.9/site-packages (from pandas->datasets) (2.9.0.post0)\n",
      "Requirement already satisfied: pytz>=2020.1 in /users/kw3215/.local/lib/python3.9/site-packages (from pandas->datasets) (2025.2)\n",
      "Requirement already satisfied: six>=1.5 in /usr/lib/python3.9/site-packages (from python-dateutil>=2.8.2->pandas->datasets) (1.15.0)\n",
      "\u001b[33mWARNING: Value for scheme.platlib does not match. Please report this to <https://github.com/pypa/pip/issues/10151>\n",
      "distutils: /users/kw3215/.local/lib/python3.9/site-packages\n",
      "sysconfig: /users/kw3215/.local/lib64/python3.9/site-packages\u001b[0m\n",
      "\u001b[33mWARNING: Additional context:\n",
      "user = True\n",
      "home = None\n",
      "root = None\n",
      "prefix = None\u001b[0m\n"
     ]
    }
   ],
   "source": [
    "!pip install datasets"
   ]
  },
  {
   "cell_type": "code",
   "execution_count": null,
   "id": "51e33360",
   "metadata": {},
   "outputs": [],
   "source": []
  },
  {
   "cell_type": "markdown",
   "id": "9ee16e6d",
   "metadata": {},
   "source": [
    "### Verify installation"
   ]
  },
  {
   "cell_type": "code",
   "execution_count": 4,
   "id": "0895837d",
   "metadata": {},
   "outputs": [
    {
     "name": "stderr",
     "output_type": "stream",
     "text": [
      "The installed version of bitsandbytes was compiled without GPU support. 8-bit optimizers, 8-bit multiplication, and GPU quantization are unavailable.\n",
      "/users/kw3215/.local/lib/python3.9/site-packages/torch/cuda/__init__.py:789: UserWarning: Can't initialize NVML\n",
      "  warnings.warn(\"Can't initialize NVML\")\n"
     ]
    },
    {
     "name": "stdout",
     "output_type": "stream",
     "text": [
      "Setup OK: False\n"
     ]
    },
    {
     "name": "stderr",
     "output_type": "stream",
     "text": [
      "/users/kw3215/.local/lib/python3.9/site-packages/torch/cuda/__init__.py:789: UserWarning: Can't initialize NVML\n",
      "  warnings.warn(\"Can't initialize NVML\")\n"
     ]
    }
   ],
   "source": [
    "import torch, transformers, accelerate, bitsandbytes\n",
    "print(\"Setup OK:\", torch.cuda.is_available())"
   ]
  },
  {
   "cell_type": "code",
   "execution_count": 5,
   "id": "1ffa10b3",
   "metadata": {},
   "outputs": [
    {
     "name": "stdout",
     "output_type": "stream",
     "text": [
      "/bin/bash: line 1: nvcc: command not found\n"
     ]
    }
   ],
   "source": [
    "!nvcc --version"
   ]
  }
 ],
 "metadata": {
  "kernelspec": {
   "display_name": "Python 3",
   "language": "python",
   "name": "python3"
  },
  "language_info": {
   "codemirror_mode": {
    "name": "ipython",
    "version": 3
   },
   "file_extension": ".py",
   "mimetype": "text/x-python",
   "name": "python",
   "nbconvert_exporter": "python",
   "pygments_lexer": "ipython3",
   "version": "3.9.18"
  }
 },
 "nbformat": 4,
 "nbformat_minor": 5
}
